{
 "cells": [
  {
   "cell_type": "markdown",
   "metadata": {},
   "source": [
    "# 1. Importing the Libraries "
   ]
  },
  {
   "cell_type": "code",
   "execution_count": 1,
   "metadata": {},
   "outputs": [],
   "source": [
    "import numpy as np\n",
    "import matplotlib.pyplot as plt\n",
    "from scipy.integrate import solve_ivp\n",
    "import time\n"
   ]
  },
  {
   "cell_type": "markdown",
   "metadata": {},
   "source": [
    "# 2. Initial Conditions"
   ]
  },
  {
   "cell_type": "code",
   "execution_count": 6,
   "metadata": {},
   "outputs": [],
   "source": [
    "m1 = 1\n",
    "m2 = 1\n",
    "m3 = 1\n",
    "\n",
    "#positions\n",
    "initial_pos_1 = [1.0,0.0,1.0]\n",
    "initial_pos_2 = [1.0,1.0,0.0]\n",
    "initial_pos_3 = [0.0,1.0,1.0]\n",
    "\n",
    "#velocity\n",
    "initial_velocity_1 = [0.0,0.0,-1.0]\n",
    "initial_velocity_1 = [0.0,0.0,1.0]\n",
    "initial_velocity_1 = [0.0,0.0,-0.6]\n"
   ]
  },
  {
   "cell_type": "markdown",
   "metadata": {},
   "source": [
    "# 3. Define system of first order ODEs"
   ]
  },
  {
   "cell_type": "code",
   "execution_count": 7,
   "metadata": {},
   "outputs": [],
   "source": [
    "def system_odes(sol, m1, m2, m3):\n",
    "    \n",
    "    p1, p2, p3, df1_dt, df2_dt, df3_dt = sol\n",
    "    f1,f2,f3 = df1_dt, df2_dt, df3_dt\n",
    "    \n",
    "    df1_dt = m2*(p2-p1)/np.linalg.norm(p2-p1)**3 + m3*(p3-p1)/np.linalg.norm(p3-p1)**3\n",
    "    df2_dt = m3*(p3-p2)/np.linalg.norm(p3-p2)**3 + m1*(p1-p2)/np.linalg.norm(p1-p2)**3\n",
    "    df3_dt = m1*(p1-p3)/np.linalg.norm(p1-p3)**3 + m2*(p2-p3)/np.linalg.norm(p2-p3)**3\n",
    "    \n",
    "    return f1,f2,f3,df1_dt,df2_dt,df3_dt"
   ]
  }
 ],
 "metadata": {
  "kernelspec": {
   "display_name": "Python 3",
   "language": "python",
   "name": "python3"
  },
  "language_info": {
   "codemirror_mode": {
    "name": "ipython",
    "version": 3
   },
   "file_extension": ".py",
   "mimetype": "text/x-python",
   "name": "python",
   "nbconvert_exporter": "python",
   "pygments_lexer": "ipython3",
   "version": "3.12.4"
  }
 },
 "nbformat": 4,
 "nbformat_minor": 2
}
