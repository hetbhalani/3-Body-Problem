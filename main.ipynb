{
 "cells": [
  {
   "cell_type": "markdown",
   "metadata": {},
   "source": [
    "# 1. Importing the Libraries "
   ]
  },
  {
   "cell_type": "code",
   "execution_count": 19,
   "metadata": {},
   "outputs": [],
   "source": [
    "import numpy as np\n",
    "import matplotlib.pyplot as plt\n",
    "from scipy.integrate import solve_ivp\n",
    "import time\n"
   ]
  },
  {
   "cell_type": "markdown",
   "metadata": {},
   "source": [
    "# 2. Initial Conditions"
   ]
  },
  {
   "cell_type": "code",
   "execution_count": 20,
   "metadata": {},
   "outputs": [],
   "source": [
    "m1 = 1\n",
    "m2 = 1\n",
    "m3 = 1\n",
    "\n",
    "#positions\n",
    "initial_pos_1 = [1.0,0.0,1.0]\n",
    "initial_pos_2 = [1.0,1.0,0.0]\n",
    "initial_pos_3 = [0.0,1.0,1.0]\n",
    "\n",
    "#velocity\n",
    "initial_velocity_1 = [0.0,0.0,-1.0]\n",
    "initial_velocity_2 = [0.0,0.0,1.0]\n",
    "initial_velocity_3 = [0.0,0.0,-0.6]\n",
    "\n",
    "initial_cond = np.array([\n",
    "    initial_pos_1,initial_pos_2,initial_pos_3,\n",
    "    initial_velocity_1,initial_velocity_2,initial_velocity_3\n",
    "]).ravel() #2D mathi 1D ma convert kri dye, bcz y0 vadi arg ma 1D array j hovo joye\n"
   ]
  },
  {
   "cell_type": "markdown",
   "metadata": {},
   "source": [
    "# 3. Define system of first order ODEs"
   ]
  },
  {
   "cell_type": "code",
   "execution_count": 25,
   "metadata": {},
   "outputs": [],
   "source": [
    "def system_odes(t,sol, m1, m2, m3):\n",
    "    # print(sol)\n",
    "    \n",
    "    p1,p2,p3 = sol[0:3], sol[3:6], sol[6:9]\n",
    "    dp1_dt, dp2_dt, dp3_dt = sol[9:12], sol[12:15], sol[15:18]\n",
    "    \n",
    "    f1,f2,f3 = dp1_dt, dp2_dt, dp3_dt\n",
    "    \n",
    "    df1_dt = m2*(p2-p1)/np.linalg.norm(p2-p1)**3 + m3*(p3-p1)/np.linalg.norm(p3-p1)**3\n",
    "    df2_dt = m3*(p3-p2)/np.linalg.norm(p3-p2)**3 + m1*(p1-p2)/np.linalg.norm(p1-p2)**3\n",
    "    df3_dt = m1*(p1-p3)/np.linalg.norm(p1-p3)**3 + m2*(p2-p3)/np.linalg.norm(p2-p3)**3\n",
    "    \n",
    "    return np.array([f1,f2,f3,df1_dt,df2_dt,df3_dt]).ravel()"
   ]
  },
  {
   "cell_type": "markdown",
   "metadata": {},
   "source": [
    "# 4. Solve numeric"
   ]
  },
  {
   "cell_type": "code",
   "execution_count": 26,
   "metadata": {},
   "outputs": [],
   "source": [
    "time_s , time_e = 0, 10\n",
    "t_points = np.linspace(time_s, time_e, 1001)\n",
    "\n",
    "solution = solve_ivp(fun=system_odes, t_span=(time_s,time_e), y0=initial_cond, t_eval=t_points, args=(m1, m2, m3))"
   ]
  }
 ],
 "metadata": {
  "kernelspec": {
   "display_name": "Python 3",
   "language": "python",
   "name": "python3"
  },
  "language_info": {
   "codemirror_mode": {
    "name": "ipython",
    "version": 3
   },
   "file_extension": ".py",
   "mimetype": "text/x-python",
   "name": "python",
   "nbconvert_exporter": "python",
   "pygments_lexer": "ipython3",
   "version": "3.12.4"
  }
 },
 "nbformat": 4,
 "nbformat_minor": 2
}
